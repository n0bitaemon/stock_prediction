{
 "cells": [
  {
   "cell_type": "code",
   "execution_count": 93,
   "id": "adfa538e",
   "metadata": {},
   "outputs": [],
   "source": [
    "import pandas as pd\n",
    "import numpy as np\n",
    "import matplotlib.pyplot as plt\n",
    "import datetime as dt\n",
    "import matplotlib.dates as mdates\n",
    "import sklearn.metrics as sm\n",
    "import seaborn as sns\n",
    "\n",
    "from sklearn.ensemble import RandomForestRegressor\n",
    "from sklearn.preprocessing import StandardScaler\n",
    "from sklearn.model_selection import train_test_split\n",
    "from sklearn.model_selection import RandomizedSearchCV\n",
    "\n",
    "from statsmodels.tsa.stattools import adfuller\n",
    "from sklearn.feature_selection import RFE\n",
    "\n",
    "%matplotlib inline"
   ]
  },
  {
   "cell_type": "code",
   "execution_count": 94,
   "id": "c8fe6d66",
   "metadata": {},
   "outputs": [],
   "source": [
    "def difference(dataset, interval=1):\n",
    "    diff = list()\n",
    "    for i in range(interval, len(dataset)):\n",
    "        value = dataset[i] - dataset[i - interval]\n",
    "        diff.append(value)\n",
    "    return diff\n",
    "\n",
    "def inverse_difference(last_ob, value):\n",
    "    return value + last_ob"
   ]
  },
  {
   "cell_type": "code",
   "execution_count": 95,
   "id": "2b0a5501",
   "metadata": {},
   "outputs": [
    {
     "data": {
      "text/html": [
       "<div>\n",
       "<style scoped>\n",
       "    .dataframe tbody tr th:only-of-type {\n",
       "        vertical-align: middle;\n",
       "    }\n",
       "\n",
       "    .dataframe tbody tr th {\n",
       "        vertical-align: top;\n",
       "    }\n",
       "\n",
       "    .dataframe thead th {\n",
       "        text-align: right;\n",
       "    }\n",
       "</style>\n",
       "<table border=\"1\" class=\"dataframe\">\n",
       "  <thead>\n",
       "    <tr style=\"text-align: right;\">\n",
       "      <th></th>\n",
       "      <th>Unnamed: 0</th>\n",
       "      <th>Price</th>\n",
       "      <th>High</th>\n",
       "      <th>Low</th>\n",
       "      <th>Close</th>\n",
       "      <th>Volume</th>\n",
       "      <th>Adj Close</th>\n",
       "    </tr>\n",
       "    <tr>\n",
       "      <th>Date</th>\n",
       "      <th></th>\n",
       "      <th></th>\n",
       "      <th></th>\n",
       "      <th></th>\n",
       "      <th></th>\n",
       "      <th></th>\n",
       "      <th></th>\n",
       "    </tr>\n",
       "  </thead>\n",
       "  <tbody>\n",
       "    <tr>\n",
       "      <th>2013-04-15</th>\n",
       "      <td>0</td>\n",
       "      <td>19.67</td>\n",
       "      <td>19.94</td>\n",
       "      <td>19.44</td>\n",
       "      <td>19.57</td>\n",
       "      <td>98025876</td>\n",
       "      <td>19.57</td>\n",
       "    </tr>\n",
       "    <tr>\n",
       "      <th>2013-04-16</th>\n",
       "      <td>1</td>\n",
       "      <td>19.68</td>\n",
       "      <td>19.92</td>\n",
       "      <td>19.62</td>\n",
       "      <td>19.85</td>\n",
       "      <td>69610320</td>\n",
       "      <td>19.85</td>\n",
       "    </tr>\n",
       "    <tr>\n",
       "      <th>2013-04-17</th>\n",
       "      <td>2</td>\n",
       "      <td>19.69</td>\n",
       "      <td>19.79</td>\n",
       "      <td>19.47</td>\n",
       "      <td>19.58</td>\n",
       "      <td>81398520</td>\n",
       "      <td>19.58</td>\n",
       "    </tr>\n",
       "    <tr>\n",
       "      <th>2013-04-18</th>\n",
       "      <td>3</td>\n",
       "      <td>19.65</td>\n",
       "      <td>19.66</td>\n",
       "      <td>19.05</td>\n",
       "      <td>19.17</td>\n",
       "      <td>132767100</td>\n",
       "      <td>19.17</td>\n",
       "    </tr>\n",
       "    <tr>\n",
       "      <th>2013-04-19</th>\n",
       "      <td>4</td>\n",
       "      <td>19.25</td>\n",
       "      <td>20.11</td>\n",
       "      <td>19.18</td>\n",
       "      <td>20.02</td>\n",
       "      <td>231895872</td>\n",
       "      <td>20.02</td>\n",
       "    </tr>\n",
       "    <tr>\n",
       "      <th>...</th>\n",
       "      <td>...</td>\n",
       "      <td>...</td>\n",
       "      <td>...</td>\n",
       "      <td>...</td>\n",
       "      <td>...</td>\n",
       "      <td>...</td>\n",
       "      <td>...</td>\n",
       "    </tr>\n",
       "    <tr>\n",
       "      <th>2023-03-27</th>\n",
       "      <td>2505</td>\n",
       "      <td>104.62</td>\n",
       "      <td>104.76</td>\n",
       "      <td>101.93</td>\n",
       "      <td>102.46</td>\n",
       "      <td>31120900</td>\n",
       "      <td>102.46</td>\n",
       "    </tr>\n",
       "    <tr>\n",
       "      <th>2023-03-28</th>\n",
       "      <td>2506</td>\n",
       "      <td>102.44</td>\n",
       "      <td>102.45</td>\n",
       "      <td>99.74</td>\n",
       "      <td>101.03</td>\n",
       "      <td>32057900</td>\n",
       "      <td>101.03</td>\n",
       "    </tr>\n",
       "    <tr>\n",
       "      <th>2023-03-29</th>\n",
       "      <td>2507</td>\n",
       "      <td>102.28</td>\n",
       "      <td>102.49</td>\n",
       "      <td>100.65</td>\n",
       "      <td>101.39</td>\n",
       "      <td>28779600</td>\n",
       "      <td>101.39</td>\n",
       "    </tr>\n",
       "    <tr>\n",
       "      <th>2023-03-30</th>\n",
       "      <td>2508</td>\n",
       "      <td>100.91</td>\n",
       "      <td>101.16</td>\n",
       "      <td>99.78</td>\n",
       "      <td>100.89</td>\n",
       "      <td>33086200</td>\n",
       "      <td>100.89</td>\n",
       "    </tr>\n",
       "    <tr>\n",
       "      <th>2023-03-31</th>\n",
       "      <td>2509</td>\n",
       "      <td>101.30</td>\n",
       "      <td>103.89</td>\n",
       "      <td>101.04</td>\n",
       "      <td>103.73</td>\n",
       "      <td>36823200</td>\n",
       "      <td>103.73</td>\n",
       "    </tr>\n",
       "  </tbody>\n",
       "</table>\n",
       "<p>2510 rows × 7 columns</p>\n",
       "</div>"
      ],
      "text/plain": [
       "            Unnamed: 0   Price    High     Low   Close     Volume  Adj Close\n",
       "Date                                                                        \n",
       "2013-04-15           0   19.67   19.94   19.44   19.57   98025876      19.57\n",
       "2013-04-16           1   19.68   19.92   19.62   19.85   69610320      19.85\n",
       "2013-04-17           2   19.69   19.79   19.47   19.58   81398520      19.58\n",
       "2013-04-18           3   19.65   19.66   19.05   19.17  132767100      19.17\n",
       "2013-04-19           4   19.25   20.11   19.18   20.02  231895872      20.02\n",
       "...                ...     ...     ...     ...     ...        ...        ...\n",
       "2023-03-27        2505  104.62  104.76  101.93  102.46   31120900     102.46\n",
       "2023-03-28        2506  102.44  102.45   99.74  101.03   32057900     101.03\n",
       "2023-03-29        2507  102.28  102.49  100.65  101.39   28779600     101.39\n",
       "2023-03-30        2508  100.91  101.16   99.78  100.89   33086200     100.89\n",
       "2023-03-31        2509  101.30  103.89  101.04  103.73   36823200     103.73\n",
       "\n",
       "[2510 rows x 7 columns]"
      ]
     },
     "execution_count": 95,
     "metadata": {},
     "output_type": "execute_result"
    }
   ],
   "source": [
    "# Collect and clean the data\n",
    "original_data = pd.read_csv('google-stock-dataset.csv')\n",
    "original_data.set_index(\"Date\", inplace=True)\n",
    "original_data\n"
   ]
  },
  {
   "cell_type": "code",
   "execution_count": 96,
   "id": "774eb5a8",
   "metadata": {},
   "outputs": [],
   "source": [
    "# sns.boxplot(x=original_data[\"Price\"])\n",
    "# sns.boxplot(x=original_data[\"High\"])\n",
    "# sns.boxplot(original_data[\"Low\"])\n",
    "# sns.boxplot(original_data[\"Close\"])\n",
    "# sns.boxplot(original_data[\"Volume\"])\n",
    "# sns.boxplot(original_data[\"Adj Close\"])"
   ]
  },
  {
   "cell_type": "code",
   "execution_count": 97,
   "id": "48433efb",
   "metadata": {
    "scrolled": false
   },
   "outputs": [
    {
     "data": {
      "text/plain": [
       "<matplotlib.legend.Legend at 0x1a547bd27d0>"
      ]
     },
     "execution_count": 97,
     "metadata": {},
     "output_type": "execute_result"
    },
    {
     "data": {
      "image/png": "[encoded data removed]",
      "text/plain": [
       "<Figure size 640x480 with 1 Axes>"
      ]
     },
     "metadata": {},
     "output_type": "display_data"
    }
   ],
   "source": [
    "# Show the data visually\n",
    "original_data.plot(y=\"Close\")\n",
    "plt.xticks(rotation=45)\n",
    "plt.legend(['Close value'])"
   ]
  },
  {
   "cell_type": "code",
   "execution_count": 98,
   "id": "2942f1fe",
   "metadata": {},
   "outputs": [
    {
     "data": {
      "text/plain": [
       "array([ 19.57,  19.85,  19.58, ..., 101.39, 100.89, 103.73])"
      ]
     },
     "execution_count": 98,
     "metadata": {},
     "output_type": "execute_result"
    }
   ],
   "source": [
    "#### PREPROCESSING ####\n",
    "original_data = original_data.dropna() # Drop missing data\n",
    "\n",
    "# x_data = original_data.iloc[:, original_data.columns != 'Volume'].values # x_data.shape = (2510, 6)\n",
    "x_data = original_data.drop(['Close', 'Adj Close'], axis=1).values\n",
    "y_data = original_data['Close'].values # y_data.shape = (2510, )\n",
    "# Divide into train and test datasets\n",
    "x_train, x_test, y_train, y_test = train_test_split(x_data, y_data, test_size=0.18, random_state=0, shuffle=False)\n",
    "# Scaling the features\n",
    "scaler = StandardScaler()\n",
    "x_train_scaled = scaler.fit_transform(x_train)\n",
    "x_test_scaled = scaler.transform(x_test)\n",
    "\n",
    "y_data\n",
    "# y_difference = difference(y_data)\n",
    "# inverse_difference = [inverse_difference(y_data[i], y_difference[i]) for i in range(len(diff))]\n"
   ]
  },
  {
   "cell_type": "code",
   "execution_count": 99,
   "id": "54c6b5a1",
   "metadata": {},
   "outputs": [
    {
     "name": "stdout",
     "output_type": "stream",
     "text": [
      "p-value: 0.850122\n"
     ]
    }
   ],
   "source": [
    "\n",
    "result = adfuller(original_data['Close'].dropna())\n",
    "print('p-value: %f' % result[1])"
   ]
  },
  {
   "cell_type": "code",
   "execution_count": 100,
   "id": "55a172df",
   "metadata": {
    "scrolled": false
   },
   "outputs": [
    {
     "data": {
      "text/plain": [
       "{'whiskers': [<matplotlib.lines.Line2D at 0x1a55cb0ef20>,\n",
       "  <matplotlib.lines.Line2D at 0x1a55cb0f1c0>,\n",
       "  <matplotlib.lines.Line2D at 0x1a55cb281c0>,\n",
       "  <matplotlib.lines.Line2D at 0x1a55cb28460>,\n",
       "  <matplotlib.lines.Line2D at 0x1a55cb29420>,\n",
       "  <matplotlib.lines.Line2D at 0x1a55cb296c0>,\n",
       "  <matplotlib.lines.Line2D at 0x1a55cadc040>,\n",
       "  <matplotlib.lines.Line2D at 0x1a55cacbaf0>,\n",
       "  <matplotlib.lines.Line2D at 0x1a55cb2abc0>,\n",
       "  <matplotlib.lines.Line2D at 0x1a55cb2ae60>],\n",
       " 'caps': [<matplotlib.lines.Line2D at 0x1a55cb0f460>,\n",
       "  <matplotlib.lines.Line2D at 0x1a55cb0f700>,\n",
       "  <matplotlib.lines.Line2D at 0x1a55cb28700>,\n",
       "  <matplotlib.lines.Line2D at 0x1a55cb289a0>,\n",
       "  <matplotlib.lines.Line2D at 0x1a55cb29960>,\n",
       "  <matplotlib.lines.Line2D at 0x1a55cb29c00>,\n",
       "  <matplotlib.lines.Line2D at 0x1a55cacbdc0>,\n",
       "  <matplotlib.lines.Line2D at 0x1a55cacbdf0>,\n",
       "  <matplotlib.lines.Line2D at 0x1a55cb2b100>,\n",
       "  <matplotlib.lines.Line2D at 0x1a55cb2b3a0>],\n",
       " 'boxes': [<matplotlib.lines.Line2D at 0x1a55cb0ec80>,\n",
       "  <matplotlib.lines.Line2D at 0x1a55cb0fee0>,\n",
       "  <matplotlib.lines.Line2D at 0x1a55cb29180>,\n",
       "  <matplotlib.lines.Line2D at 0x1a55caf1750>,\n",
       "  <matplotlib.lines.Line2D at 0x1a55cb2a8f0>],\n",
       " 'medians': [<matplotlib.lines.Line2D at 0x1a55cb0f9a0>,\n",
       "  <matplotlib.lines.Line2D at 0x1a55cb28c40>,\n",
       "  <matplotlib.lines.Line2D at 0x1a55cb29ea0>,\n",
       "  <matplotlib.lines.Line2D at 0x1a55cb2a3b0>,\n",
       "  <matplotlib.lines.Line2D at 0x1a55cb2b640>],\n",
       " 'fliers': [<matplotlib.lines.Line2D at 0x1a55cb0fc40>,\n",
       "  <matplotlib.lines.Line2D at 0x1a55cb28ee0>,\n",
       "  <matplotlib.lines.Line2D at 0x1a55cb2a140>,\n",
       "  <matplotlib.lines.Line2D at 0x1a55cb2a650>,\n",
       "  <matplotlib.lines.Line2D at 0x1a55cb2b8e0>],\n",
       " 'means': []}"
      ]
     },
     "execution_count": 100,
     "metadata": {},
     "output_type": "execute_result"
    },
    {
     "data": {
      "image/png": "[encoded data removed]",
      "text/plain": [
       "<Figure size 640x480 with 1 Axes>"
      ]
     },
     "metadata": {},
     "output_type": "display_data"
    }
   ],
   "source": [
    "plt.boxplot(x_data)"
   ]
  },
  {
   "cell_type": "code",
   "execution_count": 110,
   "id": "06283450",
   "metadata": {},
   "outputs": [
    {
     "ename": "TypeError",
     "evalue": "RFE.__init__() takes 2 positional arguments but 3 were given",
     "output_type": "error",
     "traceback": [
      "\u001b[1;31m---------------------------------------------------------------------------\u001b[0m",
      "\u001b[1;31mTypeError\u001b[0m                                 Traceback (most recent call last)",
      "Cell \u001b[1;32mIn[110], line 2\u001b[0m\n\u001b[0;32m      1\u001b[0m \u001b[38;5;66;03m# Create the model\u001b[39;00m\n\u001b[1;32m----> 2\u001b[0m rfe \u001b[38;5;241m=\u001b[39m \u001b[43mRFE\u001b[49m\u001b[43m(\u001b[49m\u001b[43mRandomForestRegressor\u001b[49m\u001b[43m(\u001b[49m\u001b[43mn_estimators\u001b[49m\u001b[38;5;241;43m=\u001b[39;49m\u001b[38;5;241;43m100\u001b[39;49m\u001b[43m,\u001b[49m\u001b[43m \u001b[49m\u001b[43mrandom_state\u001b[49m\u001b[38;5;241;43m=\u001b[39;49m\u001b[38;5;241;43m1\u001b[39;49m\u001b[43m)\u001b[49m\u001b[43m,\u001b[49m\u001b[43m \u001b[49m\u001b[38;5;241;43m4\u001b[39;49m\u001b[43m)\u001b[49m\n\u001b[0;32m      3\u001b[0m \u001b[38;5;28mprint\u001b[39m(RandomForestRegressor(n_estimators\u001b[38;5;241m=\u001b[39m\u001b[38;5;241m500\u001b[39m, random_state\u001b[38;5;241m=\u001b[39m\u001b[38;5;241m1\u001b[39m))\n",
      "\u001b[1;31mTypeError\u001b[0m: RFE.__init__() takes 2 positional arguments but 3 were given"
     ]
    }
   ],
   "source": [
    "# Create the model\n",
    "model = RandomForestRegressor(n_estimators=300, random_state=42, min_samples_split=2, min_samples_leaf=1, max_depth=10, bootstrap=True, oob_score=True)"
   ]
  },
  {
   "cell_type": "code",
   "execution_count": 59,
   "id": "d4b6f534",
   "metadata": {},
   "outputs": [],
   "source": [
    "# grid_rf = {\n",
    "# 'n_estimators': [20, 50, 100, 500, 1000],  \n",
    "# 'max_depth': np.arange(1, 15, 1),  \n",
    "# 'min_samples_split': [2, 10, 9], \n",
    "# 'min_samples_leaf': np.arange(1, 15, 2, dtype=int),  \n",
    "# 'bootstrap': [True, False], \n",
    "# 'random_state': [1, 2, 30, 42]\n",
    "# }\n",
    "# rscv = RandomizedSearchCV(estimator=model, param_distributions=grid_rf, cv=3, n_jobs=-1, verbose=2, n_iter=200)\n",
    "# rscv_fit = rscv.fit(x_train, y_train)\n",
    "# best_parameters = rscv_fit.best_params_\n",
    "# print(best_parameters)"
   ]
  },
  {
   "cell_type": "code",
   "execution_count": 60,
   "id": "5e98addc",
   "metadata": {},
   "outputs": [
    {
     "data": {
      "text/html": [
       "<style>#sk-container-id-6 {color: black;background-color: white;}#sk-container-id-6 pre{padding: 0;}#sk-container-id-6 div.sk-toggleable {background-color: white;}#sk-container-id-6 label.sk-toggleable__label {cursor: pointer;display: block;width: 100%;margin-bottom: 0;padding: 0.3em;box-sizing: border-box;text-align: center;}#sk-container-id-6 label.sk-toggleable__label-arrow:before {content: \"▸\";float: left;margin-right: 0.25em;color: #696969;}#sk-container-id-6 label.sk-toggleable__label-arrow:hover:before {color: black;}#sk-container-id-6 div.sk-estimator:hover label.sk-toggleable__label-arrow:before {color: black;}#sk-container-id-6 div.sk-toggleable__content {max-height: 0;max-width: 0;overflow: hidden;text-align: left;background-color: #f0f8ff;}#sk-container-id-6 div.sk-toggleable__content pre {margin: 0.2em;color: black;border-radius: 0.25em;background-color: #f0f8ff;}#sk-container-id-6 input.sk-toggleable__control:checked~div.sk-toggleable__content {max-height: 200px;max-width: 100%;overflow: auto;}#sk-container-id-6 input.sk-toggleable__control:checked~label.sk-toggleable__label-arrow:before {content: \"▾\";}#sk-container-id-6 div.sk-estimator input.sk-toggleable__control:checked~label.sk-toggleable__label {background-color: #d4ebff;}#sk-container-id-6 div.sk-label input.sk-toggleable__control:checked~label.sk-toggleable__label {background-color: #d4ebff;}#sk-container-id-6 input.sk-hidden--visually {border: 0;clip: rect(1px 1px 1px 1px);clip: rect(1px, 1px, 1px, 1px);height: 1px;margin: -1px;overflow: hidden;padding: 0;position: absolute;width: 1px;}#sk-container-id-6 div.sk-estimator {font-family: monospace;background-color: #f0f8ff;border: 1px dotted black;border-radius: 0.25em;box-sizing: border-box;margin-bottom: 0.5em;}#sk-container-id-6 div.sk-estimator:hover {background-color: #d4ebff;}#sk-container-id-6 div.sk-parallel-item::after {content: \"\";width: 100%;border-bottom: 1px solid gray;flex-grow: 1;}#sk-container-id-6 div.sk-label:hover label.sk-toggleable__label {background-color: #d4ebff;}#sk-container-id-6 div.sk-serial::before {content: \"\";position: absolute;border-left: 1px solid gray;box-sizing: border-box;top: 0;bottom: 0;left: 50%;z-index: 0;}#sk-container-id-6 div.sk-serial {display: flex;flex-direction: column;align-items: center;background-color: white;padding-right: 0.2em;padding-left: 0.2em;position: relative;}#sk-container-id-6 div.sk-item {position: relative;z-index: 1;}#sk-container-id-6 div.sk-parallel {display: flex;align-items: stretch;justify-content: center;background-color: white;position: relative;}#sk-container-id-6 div.sk-item::before, #sk-container-id-6 div.sk-parallel-item::before {content: \"\";position: absolute;border-left: 1px solid gray;box-sizing: border-box;top: 0;bottom: 0;left: 50%;z-index: -1;}#sk-container-id-6 div.sk-parallel-item {display: flex;flex-direction: column;z-index: 1;position: relative;background-color: white;}#sk-container-id-6 div.sk-parallel-item:first-child::after {align-self: flex-end;width: 50%;}#sk-container-id-6 div.sk-parallel-item:last-child::after {align-self: flex-start;width: 50%;}#sk-container-id-6 div.sk-parallel-item:only-child::after {width: 0;}#sk-container-id-6 div.sk-dashed-wrapped {border: 1px dashed gray;margin: 0 0.4em 0.5em 0.4em;box-sizing: border-box;padding-bottom: 0.4em;background-color: white;}#sk-container-id-6 div.sk-label label {font-family: monospace;font-weight: bold;display: inline-block;line-height: 1.2em;}#sk-container-id-6 div.sk-label-container {text-align: center;}#sk-container-id-6 div.sk-container {/* jupyter's `normalize.less` sets `[hidden] { display: none; }` but bootstrap.min.css set `[hidden] { display: none !important; }` so we also need the `!important` here to be able to override the default hidden behavior on the sphinx rendered scikit-learn.org. See: https://github.com/scikit-learn/scikit-learn/issues/21755 */display: inline-block !important;position: relative;}#sk-container-id-6 div.sk-text-repr-fallback {display: none;}</style><div id=\"sk-container-id-6\" class=\"sk-top-container\"><div class=\"sk-text-repr-fallback\"><pre>RandomForestRegressor(max_depth=10, n_estimators=500, random_state=42,\n",
       "                      warm_start=True)</pre><b>In a Jupyter environment, please rerun this cell to show the HTML representation or trust the notebook. <br />On GitHub, the HTML representation is unable to render, please try loading this page with nbviewer.org.</b></div><div class=\"sk-container\" hidden><div class=\"sk-item\"><div class=\"sk-estimator sk-toggleable\"><input class=\"sk-toggleable__control sk-hidden--visually\" id=\"sk-estimator-id-6\" type=\"checkbox\" checked><label for=\"sk-estimator-id-6\" class=\"sk-toggleable__label sk-toggleable__label-arrow\">RandomForestRegressor</label><div class=\"sk-toggleable__content\"><pre>RandomForestRegressor(max_depth=10, n_estimators=500, random_state=42,\n",
       "                      warm_start=True)</pre></div></div></div></div></div>"
      ],
      "text/plain": [
       "RandomForestRegressor(max_depth=10, n_estimators=500, random_state=42,\n",
       "                      warm_start=True)"
      ]
     },
     "execution_count": 60,
     "metadata": {},
     "output_type": "execute_result"
    }
   ],
   "source": [
    "# Train the model\n",
    "model.fit(x_train_scaled, y_train) # Training the model"
   ]
  },
  {
   "cell_type": "code",
   "execution_count": 61,
   "id": "4e5032a6",
   "metadata": {
    "scrolled": true
   },
   "outputs": [
    {
     "name": "stdout",
     "output_type": "stream",
     "text": [
      "The model score is: 1.0\n"
     ]
    }
   ],
   "source": [
    "# Test the model\n",
    "y_predict = model.predict(x_test_scaled)\n",
    "print('The model score is:', model.score(x_test_scaled, y_predict))"
   ]
  },
  {
   "cell_type": "code",
   "execution_count": 62,
   "id": "1fc5be3e",
   "metadata": {
    "scrolled": true
   },
   "outputs": [
    {
     "name": "stdout",
     "output_type": "stream",
     "text": [
      "Actual value is:\n",
      "[120.77 121.74 120.11 121.81 122.33 122.13 122.5  122.51 122.54 122.27\n",
      " 122.09 122.44 125.26 126.19 126.47 125.04 125.52 126.98 127.34 128.24\n",
      " 127.   126.97 124.58 126.21 127.55 128.42 133.01 134.04 131.9  136.09\n",
      " 135.78 134.73 134.85 135.63 135.13 136.25 135.74 136.91 136.81 136.28\n",
      " 137.19 137.73 138.31 136.66 135.45 135.68 137.43 140.04 141.26 142.08\n",
      " 141.44 144.   144.59 144.7  145.22 143.29 143.74 144.28 143.69 143.54\n",
      " 140.88 142.33 142.54 144.43 143.61 140.8  138.72 139.03 140.28 141.22\n",
      " 142.21 141.07 135.83 134.35 133.68 136.54 133.66 136.02 137.57 139.23\n",
      " 139.79 138.91 136.45 137.58 141.15 141.37 142.78 143.24 141.77 141.89\n",
      " 137.57 137.45 139.31 146.22 145.85 148.05 143.5  145.43 146.6  148.27\n",
      " 148.85 149.03 148.92 145.89 145.77 148.68 148.45 147.88 148.05 149.84\n",
      " 148.93 146.3  145.78 146.12 142.18 145.53 141.9  141.05 142.97 142.\n",
      " 143.15 147.27 148.19 147.64 148.   145.83 143.91 146.44 144.45 141.73\n",
      " 141.61 143.47 146.41 146.92 147.91 146.69 146.65 146.2  144.85 144.99\n",
      " 144.4  137.77 137.75 137.02 138.67 139.74 141.43 138.59 139.48 136.\n",
      " 135.12 133.31 130.35 130.8  126.93 129.23 129.01 133.35 135.3  137.64\n",
      " 148.   143.09 143.29 139.2  139.4  141.59 138.62 134.28 135.53 136.61\n",
      " 137.74 132.54 130.4  129.81 127.59 132.69 134.46 135.06 134.06 134.57\n",
      " 133.9  131.91 126.38 127.1  133.42 132.43 129.87 125.95 129.2  133.28\n",
      " 133.84 136.13 136.1  139.87 138.28 141.57 141.67 141.46 142.51 141.94\n",
      " 139.07 140.15 142.97 140.59 136.55 135.89 133.29 128.82 127.71 129.89\n",
      " 126.73 127.68 130.01 128.04 124.81 119.64 123.07 118.65 114.29 118.52\n",
      " 114.11 116.58 117.33 122.26 116.51 115.75 112.51 114.39 113.6  112.84\n",
      " 116.05 114.44 116.47 111.9  110.38 108.91 111.49 105.97 105.81 107.79\n",
      " 112.32 113.76 113.89 117.62 114.54 116.82 117.15 117.19 114.84 111.16\n",
      " 106.39 106.72 109.76 106.03 107.14 111.54 111.49 112.24 117.97 115.83\n",
      " 112.01 111.7  108.96 108.74 113.26 114.57 118.78 119.35 115.68 114.02\n",
      " 111.35 110.37 111.78 109.03 113.81 113.9  114.34 107.9  107.51 105.02\n",
      " 113.06 114.22 116.32 114.86 115.13 118.08 118.19 117.47 117.3  116.63\n",
      " 119.7  118.84 121.68 122.08 121.7  119.55 120.17 117.21 114.24 113.86\n",
      " 113.69 116.65 110.34 109.42 108.94 108.22 109.74 107.85 106.81 109.45\n",
      " 108.38 110.65 110.86 104.32 105.   102.91 102.8  103.07 101.14  99.28\n",
      " 100.14  98.74  98.17  97.5  100.05  97.42  95.65  98.64 101.64 101.43\n",
      " 101.42  98.68  97.86  97.18  97.56  99.06  96.56  99.97 100.77  99.63\n",
      "  99.97 101.13 102.52 104.48  94.93  92.22  96.29  94.51  90.47  86.97\n",
      "  83.43  86.58  88.49  88.9   87.32  93.94  96.41  95.7   98.44  98.85\n",
      "  98.36  97.43  95.6   97.05  98.46  97.46  96.05  95.19 100.99 100.99\n",
      " 100.44  99.48  96.98  94.94  93.71  92.83  93.31  95.63  95.07  90.86\n",
      "  90.26  88.44  89.02  89.58  87.76  89.23  87.39  86.02  88.45  88.23\n",
      "  89.12  88.08  86.2   87.34  88.02  88.42  91.52  91.13  92.12  91.29\n",
      "  91.12  93.05  98.02  99.79  97.7   95.22  97.52  99.37  96.94  98.84\n",
      " 100.43 107.74 104.78 102.9  107.64  99.37  95.01  94.57  94.61  94.68\n",
      "  96.94  95.51  94.35  91.79  91.65  90.89  89.13  89.87  90.06  90.36\n",
      "  92.    93.65  95.13  93.86  94.25  92.32  90.63  91.11  93.97  96.11\n",
      " 100.32 101.62 101.22 104.92 103.37 105.6  105.44 102.46 101.03 101.39\n",
      " 100.89 103.73]\n",
      "The model predicts the last row or day to be:\n",
      "[121.30484    121.76616    121.442      121.1827     121.93704\n",
      " 121.61142    121.62202    121.7685     121.7425     121.7864\n",
      " 121.76766    121.7428     121.7425     121.7425     121.74262\n",
      " 121.76374    121.60422    121.60422    121.60422    121.76374\n",
      " 121.73994    121.62414    121.7425     121.7425     121.62414\n",
      " 121.60422    121.7425     121.7425     121.7425     121.7425\n",
      " 121.7425     121.7425     121.6194     121.62414    121.60422\n",
      " 121.60422    121.62414    121.60422    121.60422    121.60422\n",
      " 121.60422    121.60422    121.79576    121.6194     121.60422\n",
      " 121.62336    121.7425     121.7425     121.60422    121.60422\n",
      " 121.62414    121.7425     121.73882    121.79576    121.65426\n",
      " 121.7425     121.60962    121.62414    121.60422    121.60422\n",
      " 121.7425     121.79576    121.60422    121.7425     121.7425\n",
      " 121.7425     121.7425     121.7425     121.73882    121.62414\n",
      " 121.79276    121.65426    121.7425     121.7425     121.7425\n",
      " 121.7425     121.7425     121.7425     121.73882    121.73882\n",
      " 121.7425     121.60422    121.7425     121.60422    121.7425\n",
      " 121.7425     121.62414    121.62414    121.7617     121.7425\n",
      " 121.7425     121.7425     121.7425     121.7425     121.7425\n",
      " 121.7425     121.7425     121.7425     121.7425     121.7425\n",
      " 121.7425     121.78958    121.60422    121.7425     121.60422\n",
      " 121.79576    121.7617     121.60422    121.60422    121.7425\n",
      " 121.7425     121.7425     121.7425     121.60422    121.7425\n",
      " 121.7425     121.7425     121.7425     121.7425     121.7425\n",
      " 121.7425     121.7425     121.73994    121.7617     121.73882\n",
      " 121.7425     121.7425     121.7425     121.7425     121.7425\n",
      " 121.7425     121.7425     121.7425     121.7425     121.60422\n",
      " 121.60422    121.60422    121.60422    121.60422    121.7425\n",
      " 121.7425     121.7425     121.7425     121.7425     121.7425\n",
      " 121.7425     121.7425     121.7425     121.7425     121.7425\n",
      " 121.7425     121.7425     121.7425     121.7425     121.7425\n",
      " 121.7425     121.7425     121.7425     121.7425     121.7425\n",
      " 121.7425     121.7425     121.7425     121.7425     121.7425\n",
      " 121.7425     121.7425     121.7425     121.7425     121.7425\n",
      " 121.73882    121.7425     121.7425     121.7425     121.7425\n",
      " 121.7425     121.7425     121.7425     121.7425     121.7617\n",
      " 121.73882    121.7425     121.7425     121.7425     121.7425\n",
      " 121.7425     121.7425     121.7425     121.7425     121.7425\n",
      " 121.7425     121.7425     121.7425     121.7425     121.73882\n",
      " 121.7425     121.74262    121.7425     121.7425     121.60962\n",
      " 121.7425     121.7425     121.7425     121.62202    121.7425\n",
      " 121.7425     121.73882    121.7425     121.7425     121.7425\n",
      " 121.7425     121.62414    121.7425     121.7425     121.7425\n",
      " 121.21224667 120.79960667 121.06562667 116.88852023 117.8532479\n",
      " 117.53013038 115.59162733 118.424812   118.70455667 118.61415867\n",
      " 117.44410238 113.62754126 114.93023378 114.91553469 112.94946857\n",
      " 117.50140038 114.6437399  116.92334667 113.76012164 111.34806767\n",
      " 109.645675   110.88736667 105.95242149 106.60691393 107.013028\n",
      " 110.76886667 114.08228785 116.77697062 117.47948995 114.55253136\n",
      " 118.81761767 117.78215833 118.42740867 117.74851    111.333471\n",
      " 108.75258    107.94290133 110.8197     107.855028   107.081648\n",
      " 110.69580667 111.867325   112.246035   117.57948295 118.019244\n",
      " 117.00021971 112.20619    110.23612    109.24916    109.22835333\n",
      " 114.09216081 118.020623   118.844396   118.046012   116.74310014\n",
      " 113.3438059  110.839      111.69258433 112.84856636 112.91456007\n",
      " 114.44171985 113.44365457 110.23314    110.4128     107.59869762\n",
      " 112.85412007 113.44925155 115.1890296  115.39603886 114.49491236\n",
      " 117.990232   118.51459933 118.41252033 119.20917333 117.999842\n",
      " 120.18757467 120.95922667 121.11654    121.86718    121.86494\n",
      " 120.886      120.56636    118.71031233 114.44532052 113.99158837\n",
      " 113.93718891 115.36886819 113.34231726 111.28024    111.32749\n",
      " 111.34839    111.10963    111.10626    108.006048   110.248632\n",
      " 110.67194    111.298072   111.323672   107.66007262 106.10338073\n",
      " 105.83444599 103.6884555  104.40461845 104.03417387 103.76582922\n",
      " 104.08532233 102.383267   102.42668506 102.66339689 100.81681978\n",
      "  99.77507156  97.75472833  98.61124333 104.19593729 104.29376429\n",
      " 104.32003512 104.26282673 100.904376    98.542865    98.028986\n",
      "  99.60069933 102.07959567 104.22136129 103.80303117 104.29424429\n",
      " 104.31061429 102.31628378 103.90998929 105.74785894  97.7775975\n",
      "  97.04933083  97.182825    97.63754833  96.703645    92.93885381\n",
      "  90.87499439  90.87087543  92.68324372  92.6249722   92.20571438\n",
      "  95.8754575   97.50124833  97.64300833 101.74143556 101.0138784\n",
      "  99.13349433  99.82994322  97.84886     97.77716     98.68634933\n",
      " 100.431066    97.85412     97.70904     99.67935733 104.12605513\n",
      " 104.29398429 104.29100429 101.90577567  97.79288833  97.49752167\n",
      "  96.15853833  95.462235    98.685523    97.69185833  94.89090967\n",
      "  94.47474417  93.29736262  92.60540294  93.22310029  92.18297258\n",
      "  92.75437305  92.23949485  91.56006006  92.7229935   91.80783081\n",
      "  93.30547862  92.74054583  91.2758057   91.14700889  92.74075734\n",
      "  92.32796613  94.447877    94.713327    94.69677867  94.761327\n",
      "  94.829495    94.83416167  97.6060375  101.81685767  99.60328511\n",
      "  97.455495    97.82226833 100.79299111  97.863105    98.43182267\n",
      " 104.02615156 106.999148   106.606658   104.95722542 106.53095949\n",
      " 103.76824285 101.85720172  97.4641375   97.34759833  97.16105083\n",
      "  97.466825    97.614495    97.41380167  95.360815    94.764459\n",
      "  94.70643367  93.25282262  94.13192833  94.216765    94.181965\n",
      "  94.555087    95.82424167  97.40722833  97.58217833  97.45062833\n",
      "  97.39177833  94.75304167  94.55960967  96.025475    97.264445\n",
      "  99.9708595  104.09777829 104.079904   105.53850761 106.55057105\n",
      " 107.04661133 106.13566769 105.35411564 103.63646256 103.92241229\n",
      " 103.99269019 103.88889638]\n"
     ]
    }
   ],
   "source": [
    "# Make the prediction\n",
    "# x-axis\n",
    "x_dates = []\n",
    "predicted_dates = original_data.index[x_train.shape[0]:]\n",
    "for d in predicted_dates:\n",
    "    x_dates.append(mdates.date2num(dt.datetime.strptime(d, '%Y-%m-%d')))\n",
    "\n",
    "# y-axis\n",
    "print('Actual value is:')\n",
    "print(y_test)\n",
    "print('The model predicts the last row or day to be:')\n",
    "print(y_predict)"
   ]
  },
  {
   "cell_type": "code",
   "execution_count": 63,
   "id": "067de495",
   "metadata": {
    "scrolled": true
   },
   "outputs": [
    {
     "data": {
      "image/png": "[encoded data removed]",
      "text/plain": [
       "<Figure size 640x480 with 1 Axes>"
      ]
     },
     "metadata": {},
     "output_type": "display_data"
    }
   ],
   "source": [
    "# Plot the test predictions\n",
    "ax = plt.gca()\n",
    "ax.xaxis.set_major_formatter(mdates.DateFormatter('%m-%Y'))\n",
    "plt.xticks(rotation=45)\n",
    "\n",
    "plt.plot(x_dates, y_test, color='blue')\n",
    "plt.plot(x_dates, y_predict, color='red', linestyle='--')\n",
    "plt.gca().legend(('Actual', 'Prediction'))\n",
    "plt.show()"
   ]
  },
  {
   "cell_type": "code",
   "execution_count": 64,
   "id": "1fc17ccf",
   "metadata": {},
   "outputs": [],
   "source": [
    "# Link: https://stats.stackexchange.com/questions/235189/random-forest-regression-not-predicting-higher-than-training-data"
   ]
  },
  {
   "cell_type": "code",
   "execution_count": 65,
   "id": "c3ec8214",
   "metadata": {
    "scrolled": true
   },
   "outputs": [
    {
     "name": "stdout",
     "output_type": "stream",
     "text": [
      "(R^2) score: 0.6013\n",
      "Train Score: 99.99% and Test Score: 60.13% using Random Tree Regressor.\n"
     ]
    }
   ],
   "source": [
    "# Performance evaludation\n",
    "r2_score = sm.r2_score(y_test, y_predict)\n",
    "print(\"(R^2) score:\", round(r2_score, 4))\n",
    "\n",
    "print(f'Train Score: {model.score(x_train_scaled, y_train) * 100:.2f}% and Test Score: {model.score(x_test_scaled, y_test) * 100:.2f}% using Random Tree Regressor.')"
   ]
  },
  {
   "cell_type": "code",
   "execution_count": null,
   "id": "0ad660ef",
   "metadata": {},
   "outputs": [],
   "source": []
  },
  {
   "cell_type": "code",
   "execution_count": null,
   "id": "3c012eea",
   "metadata": {},
   "outputs": [],
   "source": []
  },
  {
   "cell_type": "code",
   "execution_count": null,
   "id": "c8f4df85",
   "metadata": {},
   "outputs": [],
   "source": []
  }
 ],
 "metadata": {
  "kernelspec": {
   "display_name": "Python 3 (ipykernel)",
   "language": "python",
   "name": "python3"
  },
  "language_info": {
   "codemirror_mode": {
    "name": "ipython",
    "version": 3
   },
   "file_extension": ".py",
   "mimetype": "text/x-python",
   "name": "python",
   "nbconvert_exporter": "python",
   "pygments_lexer": "ipython3",
   "version": "3.10.4"
  }
 },
 "nbformat": 4,
 "nbformat_minor": 5
}
