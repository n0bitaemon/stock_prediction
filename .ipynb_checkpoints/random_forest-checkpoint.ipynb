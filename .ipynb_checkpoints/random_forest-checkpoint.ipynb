{
 "cells": [
  {
   "cell_type": "code",
   "execution_count": 11,
   "id": "adfa538e",
   "metadata": {},
   "outputs": [],
   "source": [
    "import pandas as pd\n",
    "import numpy as np\n",
    "import matplotlib.pyplot as plt\n",
    "import datetime as dt\n",
    "import matplotlib.dates as mdates\n",
    "import sklearn.metrics as sm\n",
    "\n",
    "from sklearn.ensemble import RandomForestRegressor\n",
    "from sklearn.preprocessing import StandardScaler\n",
    "from sklearn.model_selection import train_test_split\n",
    "from sklearn.model_selection import RandomizedSearchCV"
   ]
  },
  {
   "cell_type": "code",
   "execution_count": 12,
   "id": "2b0a5501",
   "metadata": {},
   "outputs": [
    {
     "data": {
      "text/html": [
       "<div>\n",
       "<style scoped>\n",
       "    .dataframe tbody tr th:only-of-type {\n",
       "        vertical-align: middle;\n",
       "    }\n",
       "\n",
       "    .dataframe tbody tr th {\n",
       "        vertical-align: top;\n",
       "    }\n",
       "\n",
       "    .dataframe thead th {\n",
       "        text-align: right;\n",
       "    }\n",
       "</style>\n",
       "<table border=\"1\" class=\"dataframe\">\n",
       "  <thead>\n",
       "    <tr style=\"text-align: right;\">\n",
       "      <th></th>\n",
       "      <th>Unnamed: 0</th>\n",
       "      <th>Price</th>\n",
       "      <th>High</th>\n",
       "      <th>Low</th>\n",
       "      <th>Close</th>\n",
       "      <th>Volume</th>\n",
       "      <th>Adj Close</th>\n",
       "    </tr>\n",
       "    <tr>\n",
       "      <th>Date</th>\n",
       "      <th></th>\n",
       "      <th></th>\n",
       "      <th></th>\n",
       "      <th></th>\n",
       "      <th></th>\n",
       "      <th></th>\n",
       "      <th></th>\n",
       "    </tr>\n",
       "  </thead>\n",
       "  <tbody>\n",
       "    <tr>\n",
       "      <th>2013-04-15</th>\n",
       "      <td>0</td>\n",
       "      <td>19.67</td>\n",
       "      <td>19.94</td>\n",
       "      <td>19.44</td>\n",
       "      <td>19.57</td>\n",
       "      <td>98025876</td>\n",
       "      <td>19.57</td>\n",
       "    </tr>\n",
       "    <tr>\n",
       "      <th>2013-04-16</th>\n",
       "      <td>1</td>\n",
       "      <td>19.68</td>\n",
       "      <td>19.92</td>\n",
       "      <td>19.62</td>\n",
       "      <td>19.85</td>\n",
       "      <td>69610320</td>\n",
       "      <td>19.85</td>\n",
       "    </tr>\n",
       "    <tr>\n",
       "      <th>2013-04-17</th>\n",
       "      <td>2</td>\n",
       "      <td>19.69</td>\n",
       "      <td>19.79</td>\n",
       "      <td>19.47</td>\n",
       "      <td>19.58</td>\n",
       "      <td>81398520</td>\n",
       "      <td>19.58</td>\n",
       "    </tr>\n",
       "    <tr>\n",
       "      <th>2013-04-18</th>\n",
       "      <td>3</td>\n",
       "      <td>19.65</td>\n",
       "      <td>19.66</td>\n",
       "      <td>19.05</td>\n",
       "      <td>19.17</td>\n",
       "      <td>132767100</td>\n",
       "      <td>19.17</td>\n",
       "    </tr>\n",
       "    <tr>\n",
       "      <th>2013-04-19</th>\n",
       "      <td>4</td>\n",
       "      <td>19.25</td>\n",
       "      <td>20.11</td>\n",
       "      <td>19.18</td>\n",
       "      <td>20.02</td>\n",
       "      <td>231895872</td>\n",
       "      <td>20.02</td>\n",
       "    </tr>\n",
       "    <tr>\n",
       "      <th>...</th>\n",
       "      <td>...</td>\n",
       "      <td>...</td>\n",
       "      <td>...</td>\n",
       "      <td>...</td>\n",
       "      <td>...</td>\n",
       "      <td>...</td>\n",
       "      <td>...</td>\n",
       "    </tr>\n",
       "    <tr>\n",
       "      <th>2023-03-27</th>\n",
       "      <td>2505</td>\n",
       "      <td>104.62</td>\n",
       "      <td>104.76</td>\n",
       "      <td>101.93</td>\n",
       "      <td>102.46</td>\n",
       "      <td>31120900</td>\n",
       "      <td>102.46</td>\n",
       "    </tr>\n",
       "    <tr>\n",
       "      <th>2023-03-28</th>\n",
       "      <td>2506</td>\n",
       "      <td>102.44</td>\n",
       "      <td>102.45</td>\n",
       "      <td>99.74</td>\n",
       "      <td>101.03</td>\n",
       "      <td>32057900</td>\n",
       "      <td>101.03</td>\n",
       "    </tr>\n",
       "    <tr>\n",
       "      <th>2023-03-29</th>\n",
       "      <td>2507</td>\n",
       "      <td>102.28</td>\n",
       "      <td>102.49</td>\n",
       "      <td>100.65</td>\n",
       "      <td>101.39</td>\n",
       "      <td>28779600</td>\n",
       "      <td>101.39</td>\n",
       "    </tr>\n",
       "    <tr>\n",
       "      <th>2023-03-30</th>\n",
       "      <td>2508</td>\n",
       "      <td>100.91</td>\n",
       "      <td>101.16</td>\n",
       "      <td>99.78</td>\n",
       "      <td>100.89</td>\n",
       "      <td>33086200</td>\n",
       "      <td>100.89</td>\n",
       "    </tr>\n",
       "    <tr>\n",
       "      <th>2023-03-31</th>\n",
       "      <td>2509</td>\n",
       "      <td>101.30</td>\n",
       "      <td>103.89</td>\n",
       "      <td>101.04</td>\n",
       "      <td>103.73</td>\n",
       "      <td>36823200</td>\n",
       "      <td>103.73</td>\n",
       "    </tr>\n",
       "  </tbody>\n",
       "</table>\n",
       "<p>2510 rows × 7 columns</p>\n",
       "</div>"
      ],
      "text/plain": [
       "            Unnamed: 0   Price    High     Low   Close     Volume  Adj Close\n",
       "Date                                                                        \n",
       "2013-04-15           0   19.67   19.94   19.44   19.57   98025876      19.57\n",
       "2013-04-16           1   19.68   19.92   19.62   19.85   69610320      19.85\n",
       "2013-04-17           2   19.69   19.79   19.47   19.58   81398520      19.58\n",
       "2013-04-18           3   19.65   19.66   19.05   19.17  132767100      19.17\n",
       "2013-04-19           4   19.25   20.11   19.18   20.02  231895872      20.02\n",
       "...                ...     ...     ...     ...     ...        ...        ...\n",
       "2023-03-27        2505  104.62  104.76  101.93  102.46   31120900     102.46\n",
       "2023-03-28        2506  102.44  102.45   99.74  101.03   32057900     101.03\n",
       "2023-03-29        2507  102.28  102.49  100.65  101.39   28779600     101.39\n",
       "2023-03-30        2508  100.91  101.16   99.78  100.89   33086200     100.89\n",
       "2023-03-31        2509  101.30  103.89  101.04  103.73   36823200     103.73\n",
       "\n",
       "[2510 rows x 7 columns]"
      ]
     },
     "execution_count": 12,
     "metadata": {},
     "output_type": "execute_result"
    }
   ],
   "source": [
    "# Collect and clean the data\n",
    "original_data = pd.read_csv('google-stock-dataset.csv')\n",
    "original_data.set_index(\"Date\", inplace=True)\n",
    "original_data"
   ]
  },
  {
   "cell_type": "code",
   "execution_count": 13,
   "id": "48433efb",
   "metadata": {},
   "outputs": [
    {
     "data": {
      "text/plain": [
       "(array([-500.,    0.,  500., 1000., 1500., 2000., 2500., 3000.]),\n",
       " [Text(-500.0, 0, '2021-04-08'),\n",
       "  Text(0.0, 0, '2013-04-15'),\n",
       "  Text(500.0, 0, '2015-04-09'),\n",
       "  Text(1000.0, 0, '2017-04-03'),\n",
       "  Text(1500.0, 0, '2019-03-29'),\n",
       "  Text(2000.0, 0, '2021-03-24'),\n",
       "  Text(2500.0, 0, '2023-03-20'),\n",
       "  Text(3000.0, 0, '')])"
      ]
     },
     "execution_count": 13,
     "metadata": {},
     "output_type": "execute_result"
    },
    {
     "data": {
      "image/png": "[encoded data removed]",
      "text/plain": [
       "<Figure size 640x480 with 1 Axes>"
      ]
     },
     "metadata": {},
     "output_type": "display_data"
    }
   ],
   "source": [
    "# Show the data visually\n",
    "original_data.plot(y=\"Close\")\n",
    "plt.xticks(rotation=45)"
   ]
  },
  {
   "cell_type": "code",
   "execution_count": 14,
   "id": "2942f1fe",
   "metadata": {},
   "outputs": [],
   "source": [
    "#### PREPROCESSING ####\n",
    "original_data = original_data.dropna() # Drop missing data\n",
    "\n",
    "x_data = original_data.iloc[:, original_data.columns != 'Volume'].values # x_data.shape = (2510, 6)\n",
    "y_data = original_data.iloc[:, 4].values # y_data.shape = (2510, )\n",
    "\n",
    "# Divide into train and test datasets\n",
    "x_train, x_test, y_train, y_test = train_test_split(x_data, y_data, test_size=0.25, random_state=0)\n",
    "\n",
    "# Scaling the features\n",
    "scale = StandardScaler()\n",
    "x_train = scale.fit_transform(x_train)\n",
    "x_test = scale.transform(x_test)"
   ]
  },
  {
   "cell_type": "code",
   "execution_count": 15,
   "id": "06283450",
   "metadata": {},
   "outputs": [],
   "source": [
    "# Create the model\n",
    "model = RandomForestRegressor(n_estimators=500, random_state=42, min_samples_split=2, min_samples_leaf=1, max_depth=10, bootstrap=True)"
   ]
  },
  {
   "cell_type": "code",
   "execution_count": null,
   "id": "d4b6f534",
   "metadata": {},
   "outputs": [],
   "source": [
    "grid_rf = {\n",
    "'n_estimators': [20, 50, 100, 500, 1000],  \n",
    "'max_depth': np.arange(1, 15, 1),  \n",
    "'min_samples_split': [2, 10, 9], \n",
    "'min_samples_leaf': np.arange(1, 15, 2, dtype=int),  \n",
    "'bootstrap': [True, False], \n",
    "'random_state': [1, 2, 30, 42]\n",
    "}\n",
    "rscv = RandomizedSearchCV(estimator=model, param_distributions=grid_rf, cv=3, n_jobs=-1, verbose=2, n_iter=200)\n",
    "rscv_fit = rscv.fit(x_train, y_train)\n",
    "best_parameters = rscv_fit.best_params_\n",
    "print(best_parameters)"
   ]
  },
  {
   "cell_type": "code",
   "execution_count": null,
   "id": "fb9cf18a",
   "metadata": {},
   "outputs": [],
   "source": []
  },
  {
   "cell_type": "code",
   "execution_count": null,
   "id": "5e98addc",
   "metadata": {},
   "outputs": [],
   "source": [
    "# Train the model\n",
    "model.fit(x_train, y_train) # Training the model"
   ]
  },
  {
   "cell_type": "code",
   "execution_count": null,
   "id": "4e5032a6",
   "metadata": {
    "scrolled": true
   },
   "outputs": [],
   "source": [
    "# Test the model\n",
    "predictions = model.predict(x_train)\n",
    "print('The model score is:', model.score(x_train, y_train))"
   ]
  },
  {
   "cell_type": "code",
   "execution_count": null,
   "id": "1fc5be3e",
   "metadata": {
    "scrolled": true
   },
   "outputs": [],
   "source": [
    "# Make the prediction\n",
    "n_last = len(original_data) - n_train\n",
    "\n",
    "# x-axis\n",
    "x_dates = []\n",
    "predicted_dates = original_data.index[x_train.shape[0]:]\n",
    "for d in predicted_dates:\n",
    "    x_dates.append(mdates.date2num(dt.datetime.strptime(d, '%Y-%m-%d')))\n",
    "\n",
    "# y-axis\n",
    "y_predict = model.predict(x_test)\n",
    "\n",
    "print('The model predicts the last row or day to be:')\n",
    "print(y_predict)\n",
    "print('Actual value is:')\n",
    "print(y_test)"
   ]
  },
  {
   "cell_type": "code",
   "execution_count": null,
   "id": "067de495",
   "metadata": {
    "scrolled": true
   },
   "outputs": [],
   "source": [
    "# Plot the test predictions\n",
    "ax = plt.gca()\n",
    "ax.xaxis.set_major_formatter(mdates.DateFormatter('%m-%Y'))\n",
    "plt.xticks(rotation=45)\n",
    "\n",
    "plt.plot(x_dates, y_test, color='blue')\n",
    "plt.plot(x_dates, y_predict, color='red', linestyle='--')\n",
    "plt.show()"
   ]
  },
  {
   "cell_type": "code",
   "execution_count": null,
   "id": "1fc17ccf",
   "metadata": {},
   "outputs": [],
   "source": [
    "# Link: https://stats.stackexchange.com/questions/235189/random-forest-regression-not-predicting-higher-than-training-data"
   ]
  },
  {
   "cell_type": "code",
   "execution_count": null,
   "id": "c3ec8214",
   "metadata": {},
   "outputs": [],
   "source": [
    "# Calculate accuracy\n",
    "errors = list()\n",
    "for i in range(len(actual)):\n",
    "    # calculate error\n",
    "    err = (actual.values[i] - prediction[i])**2\n",
    "    # store error\n",
    "    errors.append(err)\n",
    "# plot errors\n",
    "plt.plot(errors)\n",
    "plt.xlabel('Predicted value')\n",
    "plt.ylabel('Mean squared error')\n",
    "plt.show()"
   ]
  },
  {
   "cell_type": "code",
   "execution_count": null,
   "id": "4f9f1b4a",
   "metadata": {},
   "outputs": [],
   "source": [
    "original_data.index[:x_test.shape[0]]"
   ]
  },
  {
   "cell_type": "code",
   "execution_count": null,
   "id": "04f5c106",
   "metadata": {},
   "outputs": [],
   "source": [
    "x_train"
   ]
  }
 ],
 "metadata": {
  "kernelspec": {
   "display_name": "Python 3 (ipykernel)",
   "language": "python",
   "name": "python3"
  },
  "language_info": {
   "codemirror_mode": {
    "name": "ipython",
    "version": 3
   },
   "file_extension": ".py",
   "mimetype": "text/x-python",
   "name": "python",
   "nbconvert_exporter": "python",
   "pygments_lexer": "ipython3",
   "version": "3.11.2"
  }
 },
 "nbformat": 4,
 "nbformat_minor": 5
}
